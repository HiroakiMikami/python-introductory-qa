{
 "metadata": {
  "language_info": {
   "codemirror_mode": {
    "name": "ipython",
    "version": 3
   },
   "file_extension": ".py",
   "mimetype": "text/x-python",
   "name": "python",
   "nbconvert_exporter": "python",
   "pygments_lexer": "ipython3",
   "version": "3.8.6-final"
  },
  "orig_nbformat": 2,
  "kernelspec": {
   "name": "python3",
   "display_name": "Python 3"
  }
 },
 "nbformat": 4,
 "nbformat_minor": 2,
 "cells": [
  {
   "cell_type": "code",
   "execution_count": 8,
   "metadata": {},
   "outputs": [],
   "source": [
    "path = \"../result.pt\""
   ]
  },
  {
   "cell_type": "code",
   "execution_count": 9,
   "metadata": {},
   "outputs": [
    {
     "output_type": "stream",
     "name": "stdout",
     "text": [
      "../result.pt\n",
      "transpyle [WARNING] C unavailable\n",
      "transpyle [WARNING] Fortran unavailable\n",
      "{1: {'accuracy': 0.07216494845360824, 'bleu': 0.6803214863280362}, 5: {'accuracy': 0.07216494845360824, 'bleu': 0.7698737479807368}, 10: {'accuracy': 0.08247422680412371, 'bleu': 0.8013163322436769}}\n"
     ]
    }
   ],
   "source": [
    "import torch\n",
    "\n",
    "print(path)\n",
    "with open(path, \"rb\") as file:\n",
    "    results = torch.load(file)\n",
    "print(results.metrics)"
   ]
  },
  {
   "cell_type": "code",
   "execution_count": 31,
   "metadata": {
    "tags": []
   },
   "outputs": [],
   "source": [
    "import pandas as pd\n",
    "df = pd.DataFrame(columns=[\"id\", \"text_query\", \"ground_truth\", \"top1\", \"bleu\"])\n",
    "for result in results.results:\n",
    "    df = df.append(pd.Series([result.sample[\"supervision@id\"],\n",
    "                              result.sample[\"input@text_query\"],\n",
    "                              result.sample[\"supervision@ground_truth\"],\n",
    "                              result.candidates[0],\n",
    "                              result.metrics[1][\"bleu\"]],\n",
    "                             index=df.columns, name=result.sample[\"supervision@id\"]))"
   ]
  },
  {
   "cell_type": "code",
   "execution_count": 38,
   "metadata": {},
   "outputs": [
    {
     "output_type": "execute_result",
     "data": {
      "text/plain": [
       "    id                                         text_query  \\\n",
       "50  50                  whether `name` is equal to \"John\"   \n",
       "51  51                  whether either `x` or `y` is true   \n",
       "52  52                 whether set of `x` contains `name`   \n",
       "53  53          whehter `name` is either \"John\" or \"Rick\"   \n",
       "54  54  call `f` if `x` is met, call `g` if `y` is met...   \n",
       "56  56                  whether `x` equal `y` as instance   \n",
       "55  55     print \"foo\" if `x` is 2, otherwise print \"bar\"   \n",
       "57  57                                     `x` is not met   \n",
       "59  59                                     repeat 5 times   \n",
       "58  58                     print each element of `primes`   \n",
       "60  60  Let `prime` be an each element of `primes`, pr...   \n",
       "61  61  Let `x` be an each integer between 3 and 5, pr...   \n",
       "62  62  Let `x` be an each integer less than 5, print `x`   \n",
       "64  64                           call `f` whle `x` is met   \n",
       "63  63  Let `x` be an each integer between 3 and 8 ski...   \n",
       "66  66                  skip the procedure if `x` is even   \n",
       "65  65  finish the loop if `count` is greater or equal...   \n",
       "68  68  define `my_function`. The function prints \"Hello\"   \n",
       "69  69  define `sum_two_numbers`. The function gets `a...   \n",
       "70  70                                     set `spam` as1   \n",
       "\n",
       "                                         ground_truth  \\\n",
       "50                               \\n(name == 'John')\\n   \n",
       "51                                       \\n(x or y)\\n   \n",
       "52                                    \\n(name in x)\\n   \n",
       "53                \\n(name in set(['John', 'Rick']))\\n   \n",
       "54  \\nif x:\\n    f()\\nelif y:\\n    g()\\nelse:\\n   ...   \n",
       "56                                       \\n(x is y)\\n   \n",
       "55  \\nif (x == 2):\\n    print('foo')\\nelse:\\n    p...   \n",
       "57                                        \\n(not x)\\n   \n",
       "59                   \\nfor i in range(5):\\n    pass\\n   \n",
       "58                for prime inprimes:\\n  print(prime)   \n",
       "60                for prime inprimes:\\n  print(prime)   \n",
       "61            \\nfor x in range(3, 6):\\n    print(x)\\n   \n",
       "62               \\nfor x in range(5):\\n    print(x)\\n   \n",
       "64                              \\nwhile x:\\n    f()\\n   \n",
       "63         \\nfor x in range(3, 8, 2):\\n    print(x)\\n   \n",
       "66               \\nif ((x % 2) == 0):\\n    continue\\n   \n",
       "65                    \\nif (count >= 5):\\n    break\\n   \n",
       "68       \\n\\ndef my_function():\\n    print('Hello')\\n   \n",
       "69  \\n\\ndef sum_two_number(a, b):\\n    return (a +...   \n",
       "70                                       \\nspan = 1\\n   \n",
       "\n",
       "                                                 top1      bleu  \n",
       "50                            \\n('whether' is 'to')\\n  0.816497  \n",
       "51                             \\n('whether' != 'y')\\n  0.740083  \n",
       "52                          \\n('whether' != 'name')\\n  0.740083  \n",
       "53                        \\n('whehter' is 'either')\\n  0.415138  \n",
       "54         \\nif ('x' is 'met'):\\n    del []['call']\\n  0.716233  \n",
       "56                      \\n('whether' == 'instance')\\n  0.668740  \n",
       "55  \\nif ('x' is 2):\\n    print('foo')\\nelse:\\n   ...  0.965663  \n",
       "57                                 \\n('x' is 'met')\\n  0.759836  \n",
       "59                                \\n('repeat' ** 5)\\n  0.690591  \n",
       "58             \\nwhile []['primes']:\\n    print('')\\n  0.731110  \n",
       "60                   \\nwhile True:\\n    print('be')\\n  0.816497  \n",
       "61     \\nwhile ('between' != 3):\\n    between('be')\\n  0.782542  \n",
       "62          \\nwhile ('less' != 5):\\n    print('an')\\n  0.813288  \n",
       "64                                \\n('call' != 'x')\\n  0.740083  \n",
       "63     \\nwhile ('between' != 3):\\n    between('be')\\n  0.782542  \n",
       "66     \\nif ('x' is 'even'):\\n    skip('procedure')\\n  0.801055  \n",
       "65  \\nif ('count' is 'finish'):\\n    finish('loop')\\n  0.736428  \n",
       "68                       \\n('define' ** 'function')\\n  0.719591  \n",
       "69                \\n('define' != 'sum_two_numbers')\\n  0.448270  \n",
       "70                              \\n('set' ** 'spam')\\n  0.000000  "
      ],
      "text/html": "<div>\n<style scoped>\n    .dataframe tbody tr th:only-of-type {\n        vertical-align: middle;\n    }\n\n    .dataframe tbody tr th {\n        vertical-align: top;\n    }\n\n    .dataframe thead th {\n        text-align: right;\n    }\n</style>\n<table border=\"1\" class=\"dataframe\">\n  <thead>\n    <tr style=\"text-align: right;\">\n      <th></th>\n      <th>id</th>\n      <th>text_query</th>\n      <th>ground_truth</th>\n      <th>top1</th>\n      <th>bleu</th>\n    </tr>\n  </thead>\n  <tbody>\n    <tr>\n      <th>50</th>\n      <td>50</td>\n      <td>whether `name` is equal to \"John\"</td>\n      <td>\\n(name == 'John')\\n</td>\n      <td>\\n('whether' is 'to')\\n</td>\n      <td>0.816497</td>\n    </tr>\n    <tr>\n      <th>51</th>\n      <td>51</td>\n      <td>whether either `x` or `y` is true</td>\n      <td>\\n(x or y)\\n</td>\n      <td>\\n('whether' != 'y')\\n</td>\n      <td>0.740083</td>\n    </tr>\n    <tr>\n      <th>52</th>\n      <td>52</td>\n      <td>whether set of `x` contains `name`</td>\n      <td>\\n(name in x)\\n</td>\n      <td>\\n('whether' != 'name')\\n</td>\n      <td>0.740083</td>\n    </tr>\n    <tr>\n      <th>53</th>\n      <td>53</td>\n      <td>whehter `name` is either \"John\" or \"Rick\"</td>\n      <td>\\n(name in set(['John', 'Rick']))\\n</td>\n      <td>\\n('whehter' is 'either')\\n</td>\n      <td>0.415138</td>\n    </tr>\n    <tr>\n      <th>54</th>\n      <td>54</td>\n      <td>call `f` if `x` is met, call `g` if `y` is met...</td>\n      <td>\\nif x:\\n    f()\\nelif y:\\n    g()\\nelse:\\n   ...</td>\n      <td>\\nif ('x' is 'met'):\\n    del []['call']\\n</td>\n      <td>0.716233</td>\n    </tr>\n    <tr>\n      <th>56</th>\n      <td>56</td>\n      <td>whether `x` equal `y` as instance</td>\n      <td>\\n(x is y)\\n</td>\n      <td>\\n('whether' == 'instance')\\n</td>\n      <td>0.668740</td>\n    </tr>\n    <tr>\n      <th>55</th>\n      <td>55</td>\n      <td>print \"foo\" if `x` is 2, otherwise print \"bar\"</td>\n      <td>\\nif (x == 2):\\n    print('foo')\\nelse:\\n    p...</td>\n      <td>\\nif ('x' is 2):\\n    print('foo')\\nelse:\\n   ...</td>\n      <td>0.965663</td>\n    </tr>\n    <tr>\n      <th>57</th>\n      <td>57</td>\n      <td>`x` is not met</td>\n      <td>\\n(not x)\\n</td>\n      <td>\\n('x' is 'met')\\n</td>\n      <td>0.759836</td>\n    </tr>\n    <tr>\n      <th>59</th>\n      <td>59</td>\n      <td>repeat 5 times</td>\n      <td>\\nfor i in range(5):\\n    pass\\n</td>\n      <td>\\n('repeat' ** 5)\\n</td>\n      <td>0.690591</td>\n    </tr>\n    <tr>\n      <th>58</th>\n      <td>58</td>\n      <td>print each element of `primes`</td>\n      <td>for prime inprimes:\\n  print(prime)</td>\n      <td>\\nwhile []['primes']:\\n    print('')\\n</td>\n      <td>0.731110</td>\n    </tr>\n    <tr>\n      <th>60</th>\n      <td>60</td>\n      <td>Let `prime` be an each element of `primes`, pr...</td>\n      <td>for prime inprimes:\\n  print(prime)</td>\n      <td>\\nwhile True:\\n    print('be')\\n</td>\n      <td>0.816497</td>\n    </tr>\n    <tr>\n      <th>61</th>\n      <td>61</td>\n      <td>Let `x` be an each integer between 3 and 5, pr...</td>\n      <td>\\nfor x in range(3, 6):\\n    print(x)\\n</td>\n      <td>\\nwhile ('between' != 3):\\n    between('be')\\n</td>\n      <td>0.782542</td>\n    </tr>\n    <tr>\n      <th>62</th>\n      <td>62</td>\n      <td>Let `x` be an each integer less than 5, print `x`</td>\n      <td>\\nfor x in range(5):\\n    print(x)\\n</td>\n      <td>\\nwhile ('less' != 5):\\n    print('an')\\n</td>\n      <td>0.813288</td>\n    </tr>\n    <tr>\n      <th>64</th>\n      <td>64</td>\n      <td>call `f` whle `x` is met</td>\n      <td>\\nwhile x:\\n    f()\\n</td>\n      <td>\\n('call' != 'x')\\n</td>\n      <td>0.740083</td>\n    </tr>\n    <tr>\n      <th>63</th>\n      <td>63</td>\n      <td>Let `x` be an each integer between 3 and 8 ski...</td>\n      <td>\\nfor x in range(3, 8, 2):\\n    print(x)\\n</td>\n      <td>\\nwhile ('between' != 3):\\n    between('be')\\n</td>\n      <td>0.782542</td>\n    </tr>\n    <tr>\n      <th>66</th>\n      <td>66</td>\n      <td>skip the procedure if `x` is even</td>\n      <td>\\nif ((x % 2) == 0):\\n    continue\\n</td>\n      <td>\\nif ('x' is 'even'):\\n    skip('procedure')\\n</td>\n      <td>0.801055</td>\n    </tr>\n    <tr>\n      <th>65</th>\n      <td>65</td>\n      <td>finish the loop if `count` is greater or equal...</td>\n      <td>\\nif (count &gt;= 5):\\n    break\\n</td>\n      <td>\\nif ('count' is 'finish'):\\n    finish('loop')\\n</td>\n      <td>0.736428</td>\n    </tr>\n    <tr>\n      <th>68</th>\n      <td>68</td>\n      <td>define `my_function`. The function prints \"Hello\"</td>\n      <td>\\n\\ndef my_function():\\n    print('Hello')\\n</td>\n      <td>\\n('define' ** 'function')\\n</td>\n      <td>0.719591</td>\n    </tr>\n    <tr>\n      <th>69</th>\n      <td>69</td>\n      <td>define `sum_two_numbers`. The function gets `a...</td>\n      <td>\\n\\ndef sum_two_number(a, b):\\n    return (a +...</td>\n      <td>\\n('define' != 'sum_two_numbers')\\n</td>\n      <td>0.448270</td>\n    </tr>\n    <tr>\n      <th>70</th>\n      <td>70</td>\n      <td>set `spam` as1</td>\n      <td>\\nspan = 1\\n</td>\n      <td>\\n('set' ** 'spam')\\n</td>\n      <td>0.000000</td>\n    </tr>\n  </tbody>\n</table>\n</div>"
     },
     "metadata": {},
     "execution_count": 38
    }
   ],
   "source": [
    "df[50:70]"
   ]
  }
 ]
}